{
 "cells": [
  {
   "cell_type": "markdown",
   "id": "34c22d80",
   "metadata": {},
   "source": [
    "# Week 13: Machine Learning: Classification"
   ]
  },
  {
   "cell_type": "markdown",
   "id": "33e0b291",
   "metadata": {},
   "source": [
    "## Lesson\n",
    "Use `scikit-learn` to build classification models like logistic regression and decision trees."
   ]
  },
  {
   "cell_type": "markdown",
   "id": "3e852acf",
   "metadata": {},
   "source": [
    "## Exercise\n",
    "Train a logistic regression model on the Iris dataset."
   ]
  },
  {
   "cell_type": "markdown",
   "id": "0735bc99",
   "metadata": {},
   "source": [
    "## Quiz\n",
    "1. What is classification?\n",
    "2. What is the difference between precision and recall?\n",
    "3. What is overfitting?"
   ]
  },
  {
   "cell_type": "markdown",
   "id": "a5bb8db0",
   "metadata": {},
   "source": [
    "## Mini Project\n",
    "Build a spam classifier using a dataset of SMS messages."
   ]
  }
 ],
 "metadata": {},
 "nbformat": 4,
 "nbformat_minor": 5
}
