{
 "cells": [
  {
   "cell_type": "markdown",
   "id": "fb4407ef",
   "metadata": {},
   "source": [
    "# Week 14: Machine Learning: Regression & Evaluation"
   ]
  },
  {
   "cell_type": "markdown",
   "id": "8bab99b6",
   "metadata": {},
   "source": [
    "## Lesson\n",
    "Learn linear regression, model evaluation metrics, and cross-validation."
   ]
  },
  {
   "cell_type": "markdown",
   "id": "c9c51aaa",
   "metadata": {},
   "source": [
    "## Exercise\n",
    "Train a linear regression model to predict housing prices."
   ]
  },
  {
   "cell_type": "markdown",
   "id": "8573d7ee",
   "metadata": {},
   "source": [
    "## Quiz\n",
    "1. What is the difference between regression and classification?\n",
    "2. What is RMSE?\n",
    "3. What is cross-validation?"
   ]
  },
  {
   "cell_type": "markdown",
   "id": "d24d596f",
   "metadata": {},
   "source": [
    "## Mini Project\n",
    "Build a model to predict car prices using a dataset and evaluate its performance."
   ]
  }
 ],
 "metadata": {},
 "nbformat": 4,
 "nbformat_minor": 5
}
