{
 "cells": [
  {
   "cell_type": "markdown",
   "id": "b3983045",
   "metadata": {},
   "source": [
    "# Week 15: Natural Language Processing (NLP)"
   ]
  },
  {
   "cell_type": "markdown",
   "id": "eb6ffdb2",
   "metadata": {},
   "source": [
    "## Lesson\n",
    "Use `nltk`, `spaCy`, and `transformers` for text preprocessing and sentiment analysis."
   ]
  },
  {
   "cell_type": "markdown",
   "id": "27dea84c",
   "metadata": {},
   "source": [
    "## Exercise\n",
    "Tokenize and analyze sentiment of sample text using `nltk`."
   ]
  },
  {
   "cell_type": "markdown",
   "id": "671f3ef4",
   "metadata": {},
   "source": [
    "## Quiz\n",
    "1. What is tokenization?\n",
    "2. What is the difference between stemming and lemmatization?\n",
    "3. What is a transformer model?"
   ]
  },
  {
   "cell_type": "markdown",
   "id": "7efbf7c1",
   "metadata": {},
   "source": [
    "## Mini Project\n",
    "Build a sentiment analyzer for product reviews using `spaCy` or `transformers`."
   ]
  }
 ],
 "metadata": {},
 "nbformat": 4,
 "nbformat_minor": 5
}
