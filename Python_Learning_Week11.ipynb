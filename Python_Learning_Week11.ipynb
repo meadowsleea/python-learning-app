{
 "cells": [
  {
   "cell_type": "markdown",
   "id": "1aaf901a",
   "metadata": {},
   "source": [
    "# Week 11: Working with APIs"
   ]
  },
  {
   "cell_type": "markdown",
   "id": "c8b6aa1f",
   "metadata": {},
   "source": [
    "## Lesson\n",
    "Learn how to interact with REST APIs using `requests`, handle authentication, and parse JSON."
   ]
  },
  {
   "cell_type": "markdown",
   "id": "b9bf85ec",
   "metadata": {},
   "source": [
    "## Exercise\n",
    "Use the OpenWeatherMap API to fetch and display current weather data for a city."
   ]
  },
  {
   "cell_type": "markdown",
   "id": "f2bd6c06",
   "metadata": {},
   "source": [
    "## Quiz\n",
    "1. What is a REST API?\n",
    "2. How do you send parameters in a GET request?\n",
    "3. What is the purpose of an API key?"
   ]
  },
  {
   "cell_type": "markdown",
   "id": "e74643f4",
   "metadata": {},
   "source": [
    "## Mini Project\n",
    "Build a Python script that fetches and displays cryptocurrency prices from a public API."
   ]
  }
 ],
 "metadata": {},
 "nbformat": 4,
 "nbformat_minor": 5
}
