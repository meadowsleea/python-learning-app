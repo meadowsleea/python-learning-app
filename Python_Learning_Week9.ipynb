{
 "cells": [
  {
   "cell_type": "markdown",
   "id": "fa3bf084",
   "metadata": {},
   "source": [
    "# Week 9: Web Scraping"
   ]
  },
  {
   "cell_type": "markdown",
   "id": "76461071",
   "metadata": {},
   "source": [
    "## Lesson\n",
    "Learn how to extract data from websites using `requests`, `BeautifulSoup`, and `Selenium`."
   ]
  },
  {
   "cell_type": "markdown",
   "id": "b43cd972",
   "metadata": {},
   "source": [
    "## Exercise\n",
    "Use `requests` and `BeautifulSoup` to scrape the titles of articles from a news website."
   ]
  },
  {
   "cell_type": "markdown",
   "id": "190fb1d2",
   "metadata": {},
   "source": [
    "## Quiz\n",
    "1. What does `BeautifulSoup` do?\n",
    "2. How do you handle JavaScript-rendered content?\n",
    "3. What is the purpose of headers in a request?"
   ]
  },
  {
   "cell_type": "markdown",
   "id": "7dc78d84",
   "metadata": {},
   "source": [
    "## Mini Project\n",
    "Build a scraper that collects job listings from a job board and saves them to a CSV file."
   ]
  }
 ],
 "metadata": {},
 "nbformat": 4,
 "nbformat_minor": 5
}
