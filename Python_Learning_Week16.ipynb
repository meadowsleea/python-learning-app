{
 "cells": [
  {
   "cell_type": "markdown",
   "id": "5f7a9ba4",
   "metadata": {},
   "source": [
    "# Week 16: Final Capstone Project"
   ]
  },
  {
   "cell_type": "markdown",
   "id": "fe5a11ef",
   "metadata": {},
   "source": [
    "## Lesson\n",
    "Combine your skills to build a complete data pipeline or ML application."
   ]
  },
  {
   "cell_type": "markdown",
   "id": "7f94c12d",
   "metadata": {},
   "source": [
    "## Exercise\n",
    "Outline your project idea and define the data sources and tools you'll use."
   ]
  },
  {
   "cell_type": "markdown",
   "id": "22792493",
   "metadata": {},
   "source": [
    "## Quiz\n",
    "1. What are the key components of a data pipeline?\n",
    "2. How do you evaluate a complete ML workflow?\n",
    "3. What are common deployment options for Python apps?"
   ]
  },
  {
   "cell_type": "markdown",
   "id": "9b526364",
   "metadata": {},
   "source": [
    "## Mini Project\n",
    "Build and document a complete project (e.g., data scraper + ML model + dashboard)."
   ]
  }
 ],
 "metadata": {},
 "nbformat": 4,
 "nbformat_minor": 5
}
