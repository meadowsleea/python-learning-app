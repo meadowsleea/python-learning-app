{
 "cells": [
  {
   "cell_type": "markdown",
   "id": "b619f90c",
   "metadata": {},
   "source": [
    "# Week 7: Advanced Automation with Python\n",
    "\n",
    "Welcome to Week 7 of your Python learning journey! This week, you'll explore advanced automation techniques using Python. You'll learn how to schedule tasks, interact with APIs, and work with JSON data. Let's dive in!"
   ]
  },
  {
   "cell_type": "markdown",
   "id": "4f329861",
   "metadata": {},
   "source": [
    "## Lesson 1: Scheduling Tasks with `schedule`\n",
    "\n",
    "The `schedule` library lets you run Python functions at specific intervals."
   ]
  },
  {
   "cell_type": "code",
   "execution_count": null,
   "id": "85520ba3",
   "metadata": {},
   "outputs": [],
   "source": [
    "!pip install schedule"
   ]
  },
  {
   "cell_type": "code",
   "execution_count": null,
   "id": "d41b927a",
   "metadata": {},
   "outputs": [],
   "source": [
    "import schedule\n",
    "import time\n",
    "\n",
    "def job():\n",
    "    print(\"Running scheduled task...\")\n",
    "\n",
    "# Schedule the job every 2 seconds\n",
    "schedule.every(2).seconds.do(job)\n",
    "\n",
    "# Run the scheduler for 10 seconds\n",
    "start_time = time.time()\n",
    "while time.time() - start_time < 10:\n",
    "    schedule.run_pending()\n",
    "    time.sleep(1)"
   ]
  },
  {
   "cell_type": "markdown",
   "id": "a76c8346",
   "metadata": {},
   "source": [
    "## Lesson 2: Working with APIs using `requests`\n",
    "\n",
    "You can use the `requests` library to interact with web APIs."
   ]
  },
  {
   "cell_type": "code",
   "execution_count": null,
   "id": "f2d520cd",
   "metadata": {},
   "outputs": [],
   "source": [
    "import requests\n",
    "\n",
    "# Example: Get a random joke from an API\n",
    "url = \"https://official-joke-api.appspot.com/random_joke\"\n",
    "response = requests.get(url)\n",
    "\n",
    "if response.status_code == 200:\n",
    "    joke = response.json()\n",
    "    print(f\"{joke['setup']} - {joke['punchline']}\")\n",
    "else:\n",
    "    print(\"Failed to retrieve joke\")"
   ]
  },
  {
   "cell_type": "markdown",
   "id": "5d7eca95",
   "metadata": {},
   "source": [
    "## Lesson 3: Parsing JSON Data\n",
    "\n",
    "JSON is a common format for data exchange. Python's `json` module helps you work with it."
   ]
  },
  {
   "cell_type": "code",
   "execution_count": null,
   "id": "42578861",
   "metadata": {},
   "outputs": [],
   "source": [
    "import json\n",
    "\n",
    "# Example JSON string\n",
    "data = '{\"name\": \"Lee\", \"skills\": [\"Python\", \"Automation\"]}'\n",
    "\n",
    "# Parse JSON string to Python dictionary\n",
    "parsed = json.loads(data)\n",
    "print(parsed[\"name\"])\n",
    "print(parsed[\"skills\"])"
   ]
  },
  {
   "cell_type": "markdown",
   "id": "be54c071",
   "metadata": {},
   "source": [
    "## 🧠 Interactive Exercise\n",
    "\n",
    "Use the `requests` library to get a random activity from the Bored API and print it."
   ]
  },
  {
   "cell_type": "code",
   "execution_count": null,
   "id": "6c2d24c9",
   "metadata": {},
   "outputs": [],
   "source": [
    "import requests\n",
    "\n",
    "url = \"https://www.boredapi.com/api/activity\"\n",
    "response = requests.get(url)\n",
    "\n",
    "if response.status_code == 200:\n",
    "    activity = response.json()\n",
    "    print(\"Suggested activity:\", activity['activity'])\n",
    "else:\n",
    "    print(\"Failed to retrieve activity\")"
   ]
  },
  {
   "cell_type": "markdown",
   "id": "bdea8007",
   "metadata": {},
   "source": [
    "## ❓ Quiz\n",
    "\n",
    "1. What does the `schedule.every(10).seconds.do(job)` line do?\n",
    "2. What Python module is used to parse JSON strings?\n",
    "3. What HTTP method is used by `requests.get()`?\n",
    "\n",
    "Write your answers below:"
   ]
  },
  {
   "cell_type": "markdown",
   "id": "7ae0a11c",
   "metadata": {},
   "source": [
    "## 🛠️ Mini Project: Weather Notifier\n",
    "\n",
    "Create a script that:\n",
    "- Uses the OpenWeatherMap API to get the current weather for a city\n",
    "- Parses the JSON response\n",
    "- Prints a message like: \"The weather in Vancouver is 12°C with clear sky.\"\n",
    "\n",
    "**Bonus**: Schedule this script to run every hour using `schedule`.\n",
    "\n",
    "You’ll need to sign up at https://openweathermap.org/api to get a free API key."
   ]
  },
  {
   "cell_type": "code",
   "execution_count": null,
   "id": "84fd6927",
   "metadata": {},
   "outputs": [],
   "source": [
    "# Your code here\n",
    "# Hint: Use requests.get() with your API key and city name"
   ]
  }
 ],
 "metadata": {},
 "nbformat": 4,
 "nbformat_minor": 5
}
