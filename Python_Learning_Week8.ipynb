{
 "cells": [
  {
   "cell_type": "markdown",
   "id": "93685088",
   "metadata": {},
   "source": [
    "# Week 8: Working with Databases in Python\n",
    "\n",
    "Welcome to Week 8 of your Python learning journey! This week, you'll learn how to work with databases using **SQLite** and **SQLAlchemy**. You'll create tables, insert and query data, and build a mini project to reinforce your skills."
   ]
  },
  {
   "cell_type": "markdown",
   "id": "49315e6f",
   "metadata": {},
   "source": [
    "## Lesson 1: Introduction to SQLite\n",
    "SQLite is a lightweight, disk-based database that doesn’t require a separate server process. It’s built into Python via the `sqlite3` module."
   ]
  },
  {
   "cell_type": "code",
   "execution_count": null,
   "id": "ecbe259b",
   "metadata": {},
   "outputs": [],
   "source": [
    "import sqlite3\n",
    "\n",
    "# Create a connection to a new SQLite database\n",
    "conn = sqlite3.connect('example.db')\n",
    "cursor = conn.cursor()\n",
    "\n",
    "# Create a simple table\n",
    "cursor.execute('''CREATE TABLE IF NOT EXISTS users (id INTEGER PRIMARY KEY, name TEXT, age INTEGER)''')\n",
    "\n",
    "# Insert some data\n",
    "cursor.execute(\"INSERT INTO users (name, age) VALUES (?, ?)\", (\"Alice\", 30))\n",
    "conn.commit()\n",
    "\n",
    "# Query the data\n",
    "cursor.execute(\"SELECT * FROM users\")\n",
    "print(cursor.fetchall())\n",
    "\n",
    "# Close the connection\n",
    "conn.close()"
   ]
  },
  {
   "cell_type": "markdown",
   "id": "b113d67d",
   "metadata": {},
   "source": [
    "### 🧪 Exercise 1\n",
    "Create a new table called `products` with columns `id`, `name`, and `price`. Insert two products and query them."
   ]
  },
  {
   "cell_type": "markdown",
   "id": "c7ef5fd3",
   "metadata": {},
   "source": [
    "## Lesson 2: Introduction to SQLAlchemy\n",
    "SQLAlchemy is a powerful ORM (Object Relational Mapper) that allows you to interact with databases using Python classes instead of SQL statements."
   ]
  },
  {
   "cell_type": "code",
   "execution_count": null,
   "id": "7df73ddc",
   "metadata": {},
   "outputs": [],
   "source": [
    "from sqlalchemy import create_engine, Column, Integer, String, Float\n",
    "from sqlalchemy.ext.declarative import declarative_base\n",
    "from sqlalchemy.orm import sessionmaker\n",
    "\n",
    "# Create an engine and base class\n",
    "engine = create_engine('sqlite:///sqlalchemy_example.db')\n",
    "Base = declarative_base()\n",
    "\n",
    "# Define a Product class\n",
    "class Product(Base):\n",
    "    __tablename__ = 'products'\n",
    "    id = Column(Integer, primary_key=True)\n",
    "    name = Column(String)\n",
    "    price = Column(Float)\n",
    "\n",
    "# Create the table\n",
    "Base.metadata.create_all(engine)\n",
    "\n",
    "# Create a session\n",
    "Session = sessionmaker(bind=engine)\n",
    "session = Session()\n",
    "\n",
    "# Add a new product\n",
    "new_product = Product(name=\"Laptop\", price=999.99)\n",
    "session.add(new_product)\n",
    "session.commit()\n",
    "\n",
    "# Query the product\n",
    "for product in session.query(Product):\n",
    "    print(product.id, product.name, product.price)"
   ]
  },
  {
   "cell_type": "markdown",
   "id": "fe1fff46",
   "metadata": {},
   "source": [
    "### 🧪 Exercise 2\n",
    "Using SQLAlchemy, define a new table called `Customer` with columns `id`, `name`, and `email`. Add two customers and query them."
   ]
  },
  {
   "cell_type": "markdown",
   "id": "ddbefe22",
   "metadata": {},
   "source": [
    "## 🧠 Quiz\n",
    "Answer the following questions:\n",
    "\n",
    "1. What is the difference between SQLite and SQLAlchemy?\n",
    "2. How do you create a table using SQLAlchemy?\n",
    "3. What does ORM stand for and why is it useful?"
   ]
  },
  {
   "cell_type": "markdown",
   "id": "f324d107",
   "metadata": {},
   "source": [
    "## 🛠️ Mini Project: Bookstore Inventory\n",
    "Create a small database for a bookstore using SQLAlchemy. Your database should include:\n",
    "- A `Book` table with `id`, `title`, `author`, and `price`\n",
    "- A `Customer` table with `id`, `name`, and `email`\n",
    "- Insert at least 3 books and 2 customers\n",
    "- Query all books and customers\n",
    "\n",
    "Bonus: Add a `Purchase` table to track which customer bought which book."
   ]
  }
 ],
 "metadata": {},
 "nbformat": 4,
 "nbformat_minor": 5
}
