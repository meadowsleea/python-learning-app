{
 "cells": [
  {
   "cell_type": "markdown",
   "id": "0fb95418",
   "metadata": {},
   "source": [
    "# Week 12: Python for Cloud & DevOps"
   ]
  },
  {
   "cell_type": "markdown",
   "id": "69eaa86c",
   "metadata": {},
   "source": [
    "## Lesson\n",
    "Automate cloud tasks, manage environments, and use CLI tools with Python."
   ]
  },
  {
   "cell_type": "markdown",
   "id": "a39956c9",
   "metadata": {},
   "source": [
    "## Exercise\n",
    "Write a Python script that uses `subprocess` to automate a system task."
   ]
  },
  {
   "cell_type": "markdown",
   "id": "22d602fc",
   "metadata": {},
   "source": [
    "## Quiz\n",
    "1. What is `subprocess.run()` used for?\n",
    "2. How do you read environment variables in Python?\n",
    "3. What is a virtual environment?"
   ]
  },
  {
   "cell_type": "markdown",
   "id": "ecd1534a",
   "metadata": {},
   "source": [
    "## Mini Project\n",
    "Create a Python script that automates deployment steps for a simple web app."
   ]
  }
 ],
 "metadata": {},
 "nbformat": 4,
 "nbformat_minor": 5
}
