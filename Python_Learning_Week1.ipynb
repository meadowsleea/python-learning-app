{
 "cells": [
  {
   "cell_type": "markdown",
   "id": "0a51ff75",
   "metadata": {},
   "source": [
    "# 🐍 Python Learning Journey: Week 1\n",
    "Welcome to your Python learning journey! This notebook is designed for learners with some coding background and focuses on **data analysis**, **automation**, and **AI/ML**. Each week includes short lessons, interactive exercises, quizzes, and a mini project.\n",
    "\n",
    "⏱️ **Time Commitment**: ~2 hours/week\n",
    "\n",
    "---"
   ]
  },
  {
   "cell_type": "markdown",
   "id": "614b6032",
   "metadata": {},
   "source": [
    "## 🔁 Python Basics Refresher\n",
    "Let's start with a quick refresher on Python syntax, variables, data types, and control flow."
   ]
  },
  {
   "cell_type": "code",
   "execution_count": null,
   "id": "a432e418",
   "metadata": {},
   "outputs": [],
   "source": [
    "# Variables and Data Types\n",
    "name = 'Lee'\n",
    "age = 30\n",
    "is_learning = True\n",
    "print(f\"{name} is {age} years old and learning Python: {is_learning}\")"
   ]
  },
  {
   "cell_type": "code",
   "execution_count": null,
   "id": "23016b7b",
   "metadata": {},
   "outputs": [],
   "source": [
    "# Lists and Loops\n",
    "fruits = ['apple', 'banana', 'cherry']\n",
    "for fruit in fruits:\n",
    "    print(f\"I like {fruit}\")"
   ]
  },
  {
   "cell_type": "markdown",
   "id": "22741968",
   "metadata": {},
   "source": [
    "## ❓ Quiz: Python Basics\n",
    "Answer the following questions by editing the code cells below."
   ]
  },
  {
   "cell_type": "code",
   "execution_count": null,
   "id": "b86f96ba",
   "metadata": {},
   "outputs": [],
   "source": [
    "# Q1: What will this print?\n",
    "x = 5\n",
    "y = 10\n",
    "print(x + y)\n",
    "# Your answer:"
   ]
  },
  {
   "cell_type": "code",
   "execution_count": null,
   "id": "0d84c10f",
   "metadata": {},
   "outputs": [],
   "source": [
    "# Q2: Fix the syntax error\n",
    "# if x > 5\n",
    "#     print(\"x is greater than 5\")\n",
    "# Your fix:"
   ]
  },
  {
   "cell_type": "markdown",
   "id": "75b6aedb",
   "metadata": {},
   "source": [
    "## 📊 Data Analysis with Pandas\n",
    "We'll use the `pandas` library to explore and analyze data."
   ]
  },
  {
   "cell_type": "code",
   "execution_count": null,
   "id": "b2aab9e8",
   "metadata": {},
   "outputs": [],
   "source": [
    "import pandas as pd\n",
    "\n",
    "# Create a simple DataFrame\n",
    "data = {'Name': ['Alice', 'Bob', 'Charlie'], 'Age': [25, 30, 35]}\n",
    "df = pd.DataFrame(data)\n",
    "df"
   ]
  },
  {
   "cell_type": "code",
   "execution_count": null,
   "id": "853a55a2",
   "metadata": {},
   "outputs": [],
   "source": [
    "# Calculate average age\n",
    "average_age = df['Age'].mean()\n",
    "print(f\"Average age: {average_age}\")"
   ]
  },
  {
   "cell_type": "markdown",
   "id": "8edba7b8",
   "metadata": {},
   "source": [
    "## 🤖 Automation with Python\n",
    "Python can automate repetitive tasks like file handling, web scraping, and more."
   ]
  },
  {
   "cell_type": "code",
   "execution_count": null,
   "id": "d1313a74",
   "metadata": {},
   "outputs": [],
   "source": [
    "import os\n",
    "\n",
    "# List files in current directory\n",
    "files = os.listdir('.')\n",
    "print(\"Files in this directory:\", files)"
   ]
  },
  {
   "cell_type": "markdown",
   "id": "27fac1e5",
   "metadata": {},
   "source": [
    "## 🧠 AI/ML Preview\n",
    "Let's take a sneak peek at machine learning using `scikit-learn`."
   ]
  },
  {
   "cell_type": "code",
   "execution_count": null,
   "id": "a4a1500d",
   "metadata": {},
   "outputs": [],
   "source": [
    "from sklearn.linear_model import LinearRegression\n",
    "import numpy as np\n",
    "\n",
    "# Simple linear regression example\n",
    "X = np.array([[1], [2], [3], [4]])\n",
    "y = np.array([2, 4, 6, 8])\n",
    "\n",
    "model = LinearRegression()\n",
    "model.fit(X, y)\n",
    "\n",
    "print(\"Prediction for 5:\", model.predict([[5]])[0])"
   ]
  },
  {
   "cell_type": "markdown",
   "id": "636a5599",
   "metadata": {},
   "source": [
    "## 🛠️ Mini Project: Analyze a Dataset\n",
    "Use `pandas` to load and analyze a dataset of your choice (e.g., CSV file).\n",
    "\n",
    "**Tasks:**\n",
    "- Load the dataset\n",
    "- Display summary statistics\n",
    "- Create a simple visualization (optional)"
   ]
  }
 ],
 "metadata": {},
 "nbformat": 4,
 "nbformat_minor": 5
}
