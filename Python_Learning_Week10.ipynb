{
 "cells": [
  {
   "cell_type": "markdown",
   "id": "72f3e1f9",
   "metadata": {},
   "source": [
    "# Week 10: Data Visualization"
   ]
  },
  {
   "cell_type": "markdown",
   "id": "b699fae9",
   "metadata": {},
   "source": [
    "## Lesson\n",
    "Explore `matplotlib`, `seaborn`, and `plotly` for creating charts and dashboards."
   ]
  },
  {
   "cell_type": "markdown",
   "id": "73288082",
   "metadata": {},
   "source": [
    "## Exercise\n",
    "Create a bar chart and a scatter plot using `seaborn` with a sample dataset."
   ]
  },
  {
   "cell_type": "markdown",
   "id": "5fe605c7",
   "metadata": {},
   "source": [
    "## Quiz\n",
    "1. What is the difference between `matplotlib` and `seaborn`?\n",
    "2. How do you customize plot titles and labels?\n",
    "3. What is an interactive plot?"
   ]
  },
  {
   "cell_type": "markdown",
   "id": "f9c8975d",
   "metadata": {},
   "source": [
    "## Mini Project\n",
    "Visualize a dataset (e.g., Titanic or Iris) using multiple chart types and a dashboard layout."
   ]
  }
 ],
 "metadata": {},
 "nbformat": 4,
 "nbformat_minor": 5
}
